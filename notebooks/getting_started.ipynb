{
 "cells": [
  {
   "cell_type": "markdown",
   "id": "2747cb24",
   "metadata": {},
   "source": [
    "# HybEx-Law: Getting Started Tutorial\n",
    "\n",
    "Welcome to HybEx-Law, a hybrid NLP framework for verifying eligibility for legal aid services!\n",
    "\n",
    "This notebook will walk you through:\n",
    "1. **Understanding the system architecture**\n",
    "2. **Processing legal queries**\n",
    "3. **Extracting legal facts**\n",
    "4. **Applying legal rules with Prolog**\n",
    "5. **Evaluating system performance**"
   ]
  },
  {
   "cell_type": "markdown",
   "id": "26e58395",
   "metadata": {},
   "source": [
    "## 1. System Setup\n",
    "\n",
    "First, let's set up the environment and import necessary modules:"
   ]
  },
  {
   "cell_type": "code",
   "execution_count": null,
   "id": "b24700cd",
   "metadata": {},
   "outputs": [],
   "source": [
    "import sys\n",
    "from pathlib import Path\n",
    "\n",
    "# Add src to path\n",
    "sys.path.append(str(Path.cwd() / \"src\"))\n",
    "\n",
    "# Import HybEx-Law components\n",
    "from src.nlp_pipeline.hybrid_pipeline import HybridLegalNLPPipeline\n",
    "from src.prolog_engine.legal_engine import LegalAidEngine\n",
    "from src.evaluation.evaluator import HybExEvaluator\n",
    "from data.sample_data import SAMPLE_QUERIES\n",
    "\n",
    "print(\"✅ HybEx-Law components imported successfully!\")\n",
    "print(\"📊 Sample data loaded:\", len(SAMPLE_QUERIES), \"queries\")"
   ]
  },
  {
   "cell_type": "markdown",
   "id": "fa05ffbb",
   "metadata": {},
   "source": [
    "## 2. Initialize the System\n",
    "\n",
    "Let's create instances of the main components:"
   ]
  },
  {
   "cell_type": "code",
   "execution_count": null,
   "id": "a8dda20a",
   "metadata": {},
   "outputs": [],
   "source": [
    "# Initialize the hybrid NLP pipeline\n",
    "pipeline = HybridLegalNLPPipeline()\n",
    "print(\"🔧 NLP Pipeline initialized\")\n",
    "\n",
    "# Initialize the legal reasoning engine\n",
    "legal_engine = LegalAidEngine()\n",
    "print(\"⚖️  Legal Engine initialized\")\n",
    "\n",
    "# Initialize the evaluation framework\n",
    "evaluator = HybExEvaluator()\n",
    "print(\"📈 Evaluator initialized\")\n",
    "\n",
    "print(\"\\n🎉 All systems ready!\")"
   ]
  },
  {
   "cell_type": "markdown",
   "id": "70012623",
   "metadata": {},
   "source": [
    "## 3. Process a Legal Query\n",
    "\n",
    "Let's see how the system processes a real legal aid query:"
   ]
  },
  {
   "cell_type": "code",
   "execution_count": null,
   "id": "ccb47a7a",
   "metadata": {},
   "outputs": [],
   "source": [
    "# Example legal query\n",
    "query = \"I am a woman. My husband beats me and demands dowry. I earn 20000 rupees per month. Can I get legal aid?\"\n",
    "\n",
    "print(\"🗣️  Legal Query:\")\n",
    "print(f\"   '{query}'\")\n",
    "print()\n",
    "\n",
    "# Extract facts using the NLP pipeline\n",
    "print(\"🔍 Stage 1 & 2: Extracting legal facts...\")\n",
    "extracted_facts = pipeline.process_query(query, verbose=True)\n",
    "\n",
    "print(\"\\n📋 Extracted Facts:\")\n",
    "for i, fact in enumerate(extracted_facts, 1):\n",
    "    print(f\"   {i}. {fact}\")"
   ]
  },
  {
   "cell_type": "markdown",
   "id": "afc6eede",
   "metadata": {},
   "source": [
    "## 4. Apply Legal Rules\n",
    "\n",
    "Now let's use the Prolog engine to determine eligibility:"
   ]
  },
  {
   "cell_type": "code",
   "execution_count": null,
   "id": "c7b9dae5",
   "metadata": {},
   "outputs": [],
   "source": [
    "# Apply legal rules to determine eligibility\n",
    "print(\"⚖️  Applying Legal Rules...\")\n",
    "decision = legal_engine.check_eligibility(extracted_facts)\n",
    "\n",
    "print(\"\\n🎯 ELIGIBILITY DECISION:\")\n",
    "print(f\"   Status: {'✅ ELIGIBLE' if decision['eligible'] else '❌ NOT ELIGIBLE'}\")\n",
    "print(f\"   Reason: {decision['explanation']}\")\n",
    "\n",
    "if decision.get('additional_info'):\n",
    "    print(f\"   Additional Info: {decision['additional_info']}\")\n",
    "\n",
    "print(f\"\\n📊 Facts Used: {len(decision['facts_used'])} legal facts\")"
   ]
  },
  {
   "cell_type": "markdown",
   "id": "f747429d",
   "metadata": {},
   "source": [
    "## 5. Test Different Scenarios\n",
    "\n",
    "Let's test the system with various types of legal scenarios:"
   ]
  },
  {
   "cell_type": "code",
   "execution_count": null,
   "id": "5bd171fe",
   "metadata": {},
   "outputs": [],
   "source": [
    "# Test different scenarios\n",
    "test_scenarios = [\n",
    "    {\n",
    "        \"name\": \"Low Income Case\",\n",
    "        \"query\": \"I lost my job and have no income. My landlord is evicting me.\"\n",
    "    },\n",
    "    {\n",
    "        \"name\": \"SC/ST Category\", \n",
    "        \"query\": \"I am from scheduled caste. My neighbor has occupied my land illegally.\"\n",
    "    },\n",
    "    {\n",
    "        \"name\": \"Excluded Case Type\",\n",
    "        \"query\": \"Someone wrote false things about my business in the newspaper. I want to file defamation case.\"\n",
    "    },\n",
    "    {\n",
    "        \"name\": \"Minor/Child\",\n",
    "        \"query\": \"I am 16 years old. My father died in accident. Insurance company not paying.\"\n",
    "    }\n",
    "]\n",
    "\n",
    "print(\"🧪 Testing Different Scenarios:\\n\")\n",
    "\n",
    "for i, scenario in enumerate(test_scenarios, 1):\n",
    "    print(f\"{i}. {scenario['name']}\")\n",
    "    print(f\"   Query: {scenario['query']}\")\n",
    "    \n",
    "    # Process the query\n",
    "    facts = pipeline.process_query(scenario['query'])\n",
    "    decision = legal_engine.check_eligibility(facts)\n",
    "    \n",
    "    status = \"✅ ELIGIBLE\" if decision['eligible'] else \"❌ NOT ELIGIBLE\"\n",
    "    print(f\"   Result: {status}\")\n",
    "    print(f\"   Reason: {decision['explanation']}\")\n",
    "    print()"
   ]
  },
  {
   "cell_type": "markdown",
   "id": "e31a591a",
   "metadata": {},
   "source": [
    "## 6. Component Analysis\n",
    "\n",
    "Let's examine how individual components work:"
   ]
  },
  {
   "cell_type": "code",
   "execution_count": null,
   "id": "c0c7f63f",
   "metadata": {},
   "outputs": [],
   "source": [
    "# Test individual extractors\n",
    "from src.extractors.income_extractor import IncomeExtractor\n",
    "from src.extractors.case_type_classifier import CaseTypeClassifier\n",
    "from src.extractors.social_category_extractor import SocialCategoryExtractor\n",
    "\n",
    "# Initialize extractors\n",
    "income_extractor = IncomeExtractor()\n",
    "case_classifier = CaseTypeClassifier()\n",
    "social_extractor = SocialCategoryExtractor()\n",
    "\n",
    "test_query = \"I am a woman from SC community. I earn 15000 rupees monthly. My landlord is harassing me.\"\n",
    "\n",
    "print(\"🔬 Component Analysis:\")\n",
    "print(f\"Query: {test_query}\\n\")\n",
    "\n",
    "# Test income extraction\n",
    "income_facts = income_extractor.extract(test_query, test_query)\n",
    "print(f\"💰 Income Extractor: {income_facts}\")\n",
    "\n",
    "# Test case type classification\n",
    "case_type = case_classifier.classify_case_type(test_query)\n",
    "print(f\"⚖️  Case Type Classifier: {case_type}\")\n",
    "\n",
    "# Test social category extraction\n",
    "social_facts = social_extractor.extract(test_query, test_query)\n",
    "print(f\"👥 Social Category Extractor: {social_facts}\")"
   ]
  },
  {
   "cell_type": "markdown",
   "id": "93b10dbd",
   "metadata": {},
   "source": [
    "## 7. Batch Evaluation\n",
    "\n",
    "Let's evaluate the system on multiple test cases:"
   ]
  },
  {
   "cell_type": "code",
   "execution_count": null,
   "id": "eff312e4",
   "metadata": {},
   "outputs": [],
   "source": [
    "# Evaluate on first 5 sample queries\n",
    "test_data = SAMPLE_QUERIES[:5]\n",
    "\n",
    "print(f\"📊 Evaluating system on {len(test_data)} queries...\\n\")\n",
    "\n",
    "results = evaluator.evaluate_pipeline(test_data)\n",
    "\n",
    "# Display aggregate results\n",
    "metrics = results['aggregate_metrics']\n",
    "print(\"\\n📈 EVALUATION RESULTS:\")\n",
    "print(f\"   Task Success Rate: {metrics['task_success_rate']:.1%}\")\n",
    "print(f\"   Average Fact F1 Score: {metrics['avg_fact_f1']:.3f}\")\n",
    "print(f\"   Average Fact Precision: {metrics['avg_fact_precision']:.3f}\")\n",
    "print(f\"   Average Fact Recall: {metrics['avg_fact_recall']:.3f}\")\n",
    "print(f\"   Average Processing Time: {metrics['avg_processing_time']:.3f}s\")\n",
    "\n",
    "# Display individual results\n",
    "print(\"\\n📋 Individual Query Results:\")\n",
    "for result in results['individual_results']:\n",
    "    status = \"✅\" if result.task_success else \"❌\"\n",
    "    print(f\"   Query {result.query_id}: {status} (F1: {result.fact_f1:.3f}, Time: {result.processing_time:.3f}s)\")"
   ]
  },
  {
   "cell_type": "markdown",
   "id": "ae2906be",
   "metadata": {},
   "source": [
    "## 8. Knowledge Base Testing\n",
    "\n",
    "Let's test the Prolog knowledge base directly:"
   ]
  },
  {
   "cell_type": "code",
   "execution_count": null,
   "id": "4a744e17",
   "metadata": {},
   "outputs": [],
   "source": [
    "# Test the Prolog knowledge base\n",
    "print(\"🧠 Testing Prolog Knowledge Base:\\n\")\n",
    "\n",
    "kb_results = legal_engine.test_knowledge_base()\n",
    "\n",
    "for test_name, result in kb_results.items():\n",
    "    status = \"✅ PASS\" if result else \"❌ FAIL\"\n",
    "    print(f\"   {test_name}: {status}\")\n",
    "\n",
    "# Test custom scenario\n",
    "print(\"\\n🧪 Custom Test Case:\")\n",
    "custom_facts = [\n",
    "    'applicant(custom_test)',\n",
    "    'income_monthly(custom_test, 8000)',\n",
    "    'is_disabled(custom_test, true)',\n",
    "    'case_type(custom_test, \"consumer_dispute\")'\n",
    "]\n",
    "\n",
    "custom_decision = legal_engine.check_eligibility(custom_facts)\n",
    "print(f\"   Facts: Disabled person, 8000/month income, consumer dispute\")\n",
    "print(f\"   Decision: {'✅ ELIGIBLE' if custom_decision['eligible'] else '❌ NOT ELIGIBLE'}\")\n",
    "print(f\"   Reason: {custom_decision['explanation']}\")"
   ]
  },
  {
   "cell_type": "markdown",
   "id": "759c3fd7",
   "metadata": {},
   "source": [
    "## 9. Next Steps\n",
    "\n",
    "Congratulations! You've successfully explored the HybEx-Law system. Here are some next steps:\n",
    "\n",
    "### For Development:\n",
    "1. **Install full dependencies**: `pip install -r requirements.txt`\n",
    "2. **Install SWI-Prolog** for full Prolog functionality\n",
    "3. **Create more training data** for better ML models\n",
    "4. **Train the Stage 1 classifier** with annotated data\n",
    "5. **Extend the knowledge base** with more legal rules\n",
    "\n",
    "### For Research:\n",
    "1. **Compare with baselines** (regex-only, LLM-only)\n",
    "2. **Evaluate on larger datasets**\n",
    "3. **Add more case types and legal scenarios**\n",
    "4. **Implement active learning** for data annotation\n",
    "5. **Study real-world deployment** considerations\n",
    "\n",
    "### For Production:\n",
    "1. **Optimize performance** for faster processing\n",
    "2. **Add robust error handling**\n",
    "3. **Implement user interface**\n",
    "4. **Add logging and monitoring**\n",
    "5. **Ensure legal compliance** and accuracy"
   ]
  },
  {
   "cell_type": "code",
   "execution_count": null,
   "id": "a90aa812",
   "metadata": {},
   "outputs": [],
   "source": [
    "print(\"🎉 Tutorial completed!\")\n",
    "print(\"\\nThank you for exploring HybEx-Law!\")\n",
    "print(\"For more information, check the README.md and documentation.\")"
   ]
  }
 ],
 "metadata": {
  "language_info": {
   "name": "python"
  }
 },
 "nbformat": 4,
 "nbformat_minor": 5
}
